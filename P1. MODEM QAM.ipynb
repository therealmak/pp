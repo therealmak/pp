{
 "cells": [
  {
   "cell_type": "markdown",
   "id": "9f47a61a-b242-40fe-9f55-d084515048b6",
   "metadata": {},
   "source": [
    "# Conception et Implémentation d’un Modem QAM en Python"
   ]
  },
  {
   "cell_type": "markdown",
   "id": "8e3bd4c4-7fe3-488e-bae3-51ac31fa62e8",
   "metadata": {},
   "source": [
    "## Objectif du projet\n",
    "\n",
    "Ce projet a pour but de concevoir et simuler un modem numérique basé sur la modulation d'amplitude en quadrature (QAM), une technique de modulation utilisée dans les systèmes de communication numériques.  \n",
    "L’objectif est d’implémenter chaque étape du modem (TX/RX), de visualiser la constellation, d’ajouter un codage Gray, de calculer les performances (BER/SNR) et de tester la transmission d’une image.\n"
   ]
  },
  {
   "cell_type": "markdown",
   "id": "cbad6ba7-ecbb-4a7b-b01d-0080f47bdb21",
   "metadata": {},
   "source": [
    "# PARTIE 1 : Définition des Fonctions de Simulation QAM\r\n",
    "\r\n",
    "Dans cette partie, nous définissons toutes les fonctions nécessaires à la simulation d’un modem QAM.  \r\n",
    "Elles sont regroupées en 8 blocs fonctionnels :\r\n",
    "\r\n",
    "1. Génération des codes binaire et Gray  \r\n",
    "2. Construction de la constellation QAM avec différentes orientations  \r\n",
    "3. Création du tableau de correspondance symbole ↔ coordonnées IQ  \r\n",
    "4. Affichage de la constellation TX  \r\n",
    "5. Ajout de bruit (AWGN) et de déphasage (bruit de phase)  \r\n",
    "6. Démodulation et calcul du taux d’erreur binaire (BER)  \r\n",
    "7. Tracé de la courbe BER en fonction du SNR  \r\n",
    "8. Transmission et reconstruction d’une image via QAM\r\n",
    "\r\n",
    "Ces fonctions seront utilisées dans la partie suivante pour simuler un système complet.\r\n"
   ]
  },
  {
   "cell_type": "markdown",
   "id": "0d85c6f3-187e-4d8e-bf9b-8b07b80de872",
   "metadata": {},
   "source": [
    "## 1.Importation des bibliothèques nécessaires"
   ]
  },
  {
   "cell_type": "markdown",
   "id": "1e106d41-29f8-438a-bd4c-fca75aefa8d4",
   "metadata": {},
   "source": [
    "Nous commençons par importer les bibliothèques utiles : calcul numérique avec NumPy, visualisation avec Matplotlib, traitement d’images avec PIL.."
   ]
  },
  {
   "cell_type": "code",
   "execution_count": 7,
   "id": "70e76092-021d-45fe-bd02-6aaa2ca7296e",
   "metadata": {},
   "outputs": [],
   "source": [
    "import numpy as np\n",
    "import matplotlib.pyplot as plt\n",
    "import pandas as pd\n",
    "from math import log2, sqrt, pi, atan2\n",
    "from sklearn.metrics import mean_squared_error\n",
    "from PIL import Image\n",
    "import os"
   ]
  },
  {
   "cell_type": "markdown",
   "id": "1204f4c9-927e-48ca-8591-72fa0ef2541e",
   "metadata": {},
   "source": [
    "## 2.Codage Gray et Binaire"
   ]
  },
  {
   "cell_type": "markdown",
   "id": "857f60fe-1692-4afb-b120-1eca2388b731",
   "metadata": {},
   "source": [
    "Ces fonctions permettent de :\r\n",
    "- Générer les représentations binaires pour une constellation de taille M\r\n",
    "- Convertir en code Gray pour minimiser les erreurs de bit entre symboles proches"
   ]
  },
  {
   "cell_type": "code",
   "execution_count": 10,
   "id": "f6594b93-6db8-4029-8d05-9338389c420a",
   "metadata": {},
   "outputs": [],
   "source": [
    "def gray_code(n):\n",
    "    return n ^ (n >> 1)\n",
    "\n",
    "def binary_to_gray_list(M):\n",
    "    return [format(gray_code(i), f\"0{int(log2(M))}b\") for i in range(M)]\n",
    "\n",
    "def binary_list(M):\n",
    "    return [format(i, f\"0{int(log2(M))}b\") for i in range(M)]\n"
   ]
  },
  {
   "cell_type": "markdown",
   "id": "640cb614-9e4c-4972-ab89-b441ef19cb0f",
   "metadata": {},
   "source": [
    "## 3. Génération Constellation QAM avec orientation personnalisée"
   ]
  },
  {
   "cell_type": "markdown",
   "id": "46d0ce29-7eaa-4d92-b12f-568b27f261b2",
   "metadata": {},
   "source": [
    "Cette fonction crée la constellation QAM selon l’orientation choisie. Chaque point IQ est positionné sur un plan en fonction de son index.\n"
   ]
  },
  {
   "cell_type": "code",
   "execution_count": 13,
   "id": "31ce421a-bd82-4b45-9fb2-55e36d276a99",
   "metadata": {},
   "outputs": [],
   "source": [
    "def generate_qam_constellation(M, origin=\"bottom-left\"):\n",
    "    m_side = int(sqrt(M))\n",
    "    assert m_side ** 2 == M, \"M must be un carré parfait\"\n",
    "\n",
    "    iq_values = []\n",
    "    for idx in range(M):\n",
    "        i = idx // m_side  # ligne\n",
    "        j = idx % m_side   # colonne\n",
    "\n",
    "        I = 2 * j - (m_side - 1)\n",
    "        Q = 2 * i - (m_side - 1)\n",
    "\n",
    "        if origin == \"top-left\":\n",
    "            Q = -Q\n",
    "        elif origin == \"top-right\":\n",
    "            Q = -Q\n",
    "            I = -I\n",
    "        elif origin == \"bottom-right\":\n",
    "            I = -I\n",
    "\n",
    "        iq_values.append((I, Q))\n",
    "\n",
    "    return iq_values"
   ]
  },
  {
   "cell_type": "markdown",
   "id": "8c71ee3e-0709-4b19-9a28-b87c7cb489b2",
   "metadata": {},
   "source": [
    "## 4. Tableau de correspondance + bilans"
   ]
  },
  {
   "cell_type": "markdown",
   "id": "e664cf24-873e-4b9a-b3f8-a48de58befa2",
   "metadata": {},
   "source": [
    "Cette fonction :\r\n",
    "- Génère un tableau associant chaque symbole à ses coordonnées I/Q, son énergie, et sa phase.\r\n",
    "- Affiche un histogramme de la distribution des phases.\r\n",
    "- Affiche les bilans statistiques sur l'énergie et la phase des symboles."
   ]
  },
  {
   "cell_type": "code",
   "execution_count": 16,
   "id": "62e00cde-a6f5-4602-9af4-8f671a6a3845",
   "metadata": {},
   "outputs": [],
   "source": [
    "def generate_symbol_table(M, use_gray=True, origin=\"bottom-left\", show_hist=True):\n",
    "    bin_list = binary_to_gray_list(M) if use_gray else binary_list(M)\n",
    "    iq_vals = generate_qam_constellation(M, origin)\n",
    "\n",
    "    table = []\n",
    "    energies = []\n",
    "    phases = []\n",
    "\n",
    "    for idx, (I, Q) in enumerate(iq_vals):\n",
    "        bits = bin_list[idx]\n",
    "        dec = int(bits, 2)\n",
    "        energy = I**2 + Q**2\n",
    "        phase = atan2(Q, I)\n",
    "        table.append([idx, bits, dec, I, Q, energy, np.degrees(phase)])\n",
    "        energies.append(energy)\n",
    "        phases.append(np.degrees(phase))\n",
    "\n",
    "    df = pd.DataFrame(table, columns=[\"Symbole\", \"Binaire\", \"Décimal\", \"I\", \"Q\", \"Énergie\", \"Phase (°)\"])\n",
    "\n",
    "    print(\"\\n\\033[1mBILAN DES ÉNERGIES ET DES PHASES :\\033[0m\")\n",
    "    print(f\"Énergie moyenne des symboles : {np.mean(energies):.2f}\")\n",
    "    print(f\"Phase moyenne : {np.mean(phases):.2f}°\")\n",
    "\n",
    "    if show_hist:\n",
    "        plt.hist(phases, bins=12, edgecolor='black')\n",
    "        plt.title(\"Distribution des phases des symboles\")\n",
    "        plt.xlabel(\"Phase (°)\")\n",
    "        plt.ylabel(\"Nombre de symboles\")\n",
    "        plt.grid(True)\n",
    "        plt.show()\n",
    "\n",
    "    return df"
   ]
  },
  {
   "cell_type": "markdown",
   "id": "0fdd2cb9-ccf9-4fb6-adb8-3375e575a683",
   "metadata": {},
   "source": [
    "## 5. Affichage Constellation TX"
   ]
  },
  {
   "cell_type": "markdown",
   "id": "44f30d80-2e80-45cf-951d-f5036c9d82ca",
   "metadata": {},
   "source": [
    "Affiche la constellation QAM avec les symboles binaires associés à chaque point (I,Q).  \r\n",
    "Utile pour visualiser l’organisation spatiale des symboles avant transmission."
   ]
  },
  {
   "cell_type": "code",
   "execution_count": 19,
   "id": "7e7872d2-edf7-43c4-96a6-d1e303339a73",
   "metadata": {},
   "outputs": [],
   "source": [
    "def plot_constellation(df, title=\"Constellation TX\"):\n",
    "    plt.figure(figsize=(6,6))\n",
    "    plt.scatter(df['I'], df['Q'], c='blue')\n",
    "    for i, row in df.iterrows():\n",
    "        plt.text(row['I']+0.2, row['Q']+0.2, row['Binaire'], fontsize=9)\n",
    "    plt.axhline(0, color='black')\n",
    "    plt.axvline(0, color='black')\n",
    "    plt.grid(True)\n",
    "    plt.title(title)\n",
    "    plt.xlabel(\"I\")\n",
    "    plt.ylabel(\"Q\")\n",
    "    plt.axis('equal')\n",
    "    plt.show()"
   ]
  },
  {
   "cell_type": "markdown",
   "id": "edb6660d-2439-4187-93ab-95c47510b892",
   "metadata": {},
   "source": [
    "## 6. Ajout de bruit AWGN + déphasage"
   ]
  },
  {
   "cell_type": "markdown",
   "id": "31fd9d73-a859-466c-bc5e-0605b8483e8d",
   "metadata": {},
   "source": [
    "Ces fonctions simulent les perturbations du canal de transmission :\r\n",
    "- Bruit blanc gaussien (AWGN)\r\n",
    "- Bruit de phase (variation aléatoire de la phase)"
   ]
  },
  {
   "cell_type": "code",
   "execution_count": 22,
   "id": "5d905a84-81c9-4ba0-bc6a-fb60f84ea590",
   "metadata": {},
   "outputs": [],
   "source": [
    "def add_awgn_noise(iq_points, snr_db):\n",
    "    snr_linear = 10**(snr_db / 10)\n",
    "    power_signal = np.mean(np.abs(iq_points)**2)\n",
    "    noise_power = power_signal / snr_linear\n",
    "    noise = np.sqrt(noise_power / 2) * (np.random.randn(*iq_points.shape) + 1j * np.random.randn(*iq_points.shape))\n",
    "    return iq_points + noise\n",
    "\n",
    "def apply_phase_noise(iq_points, phase_std_deg):\n",
    "    phase_noise = np.radians(np.random.normal(0, phase_std_deg, iq_points.shape[0]))\n",
    "    return iq_points * np.exp(1j * phase_noise)"
   ]
  },
  {
   "cell_type": "markdown",
   "id": "d27eb377-43ba-4376-9dda-a54d2b0aaca3",
   "metadata": {},
   "source": [
    "## 7. Démodulation & BER"
   ]
  },
  {
   "cell_type": "markdown",
   "id": "c0f64b23-065b-453a-8c23-435a0641acb4",
   "metadata": {},
   "source": [
    "- Démodulation des symboles reçus par recherche du point QAM le plus proche.\r\n",
    "- Comparaison des bits transmis et reçus pour calculer le taux d’erreur binaire (BER)."
   ]
  },
  {
   "cell_type": "code",
   "execution_count": 25,
   "id": "03da0385-3cb1-47b4-83a8-6a9839ab9109",
   "metadata": {},
   "outputs": [],
   "source": [
    "def demodulate(received_points, iq_ref, bits_ref):\n",
    "    decoded_bits = []\n",
    "    for r in received_points:\n",
    "        distances = [np.abs(r - complex(I, Q)) for I, Q in iq_ref]\n",
    "        index = np.argmin(distances)\n",
    "        decoded_bits.append(bits_ref[index])\n",
    "    return decoded_bits\n",
    "\n",
    "def calculate_ber(bits_sent, bits_received):\n",
    "    total_bits = len(bits_sent) * len(bits_sent[0])\n",
    "    errors = sum(b1 != b2 for s, r in zip(bits_sent, bits_received) for b1, b2 in zip(s, r))\n",
    "    return errors / total_bits"
   ]
  },
  {
   "cell_type": "markdown",
   "id": "8f432e0d-e9a7-4e6a-bf53-4d6643554232",
   "metadata": {},
   "source": [
    "## 8. Courbe BER vs SNR"
   ]
  },
  {
   "cell_type": "markdown",
   "id": "445e796c-2b50-4fb3-8bf7-b6d40d3390a4",
   "metadata": {},
   "source": [
    "Cette fonction simule plusieurs transmissions pour différents niveaux de bruit (SNR).\r\n",
    "Elle trace la courbe du Bit Error Rate (BER) en fonction du SNR, permettant d’évaluer la performance du système.\r\n"
   ]
  },
  {
   "cell_type": "code",
   "execution_count": 28,
   "id": "34b7ded2-5a1c-45cb-aae0-d5af5d98a914",
   "metadata": {},
   "outputs": [],
   "source": [
    "def ber_vs_snr(M, use_gray, phase_noise_std, snr_range):\n",
    "    df_symbols = generate_symbol_table(M, use_gray, show_hist=False)\n",
    "    iq_ref = list(zip(df_symbols['I'], df_symbols['Q']))\n",
    "    bits_ref = list(df_symbols['Binaire'])\n",
    "    iq_sent = np.array([complex(I, Q) for I, Q in iq_ref])\n",
    "    bits_sent = bits_ref.copy()\n",
    "\n",
    "    ber_list = []\n",
    "    for snr_db in snr_range:\n",
    "        iq_rx = add_awgn_noise(iq_sent, snr_db)\n",
    "        iq_rx = apply_phase_noise(iq_rx, phase_noise_std)\n",
    "        bits_received = demodulate(iq_rx, iq_ref, bits_ref)\n",
    "        ber = calculate_ber(bits_sent, bits_received)\n",
    "        ber_list.append(ber)\n",
    "\n",
    "    plt.figure()\n",
    "    plt.semilogy(snr_range, ber_list, marker='o')\n",
    "    plt.grid(True, which='both')\n",
    "    plt.title(f\"BER vs SNR (QAM-{M}, Gray={use_gray})\")\n",
    "    plt.xlabel(\"SNR (dB)\")\n",
    "    plt.ylabel(\"Bit Error Rate (BER)\")\n",
    "    plt.show()"
   ]
  },
  {
   "cell_type": "markdown",
   "id": "313c1ac4-03ed-4690-99c2-04868272fd83",
   "metadata": {},
   "source": [
    "## 9. Transmission d'image"
   ]
  },
  {
   "cell_type": "markdown",
   "id": "fbc299f1-be86-4303-9e91-081e1e4db9d5",
   "metadata": {},
   "source": [
    "Ces fonctions permettent :\r\n",
    "- De convertir une image en flux binaire\r\n",
    "- De la transmettre par QAM avec bruit\r\n",
    "- De reconstruire l’image reçue\r\n",
    "Elles permettent de visualiser l’impact du bruit sur une image réelle."
   ]
  },
  {
   "cell_type": "code",
   "execution_count": 31,
   "id": "b9d703b9-7504-467f-b120-5c120fea9178",
   "metadata": {},
   "outputs": [],
   "source": [
    "def image_to_bits(img_path):\n",
    "    img = Image.open(img_path).convert('L')\n",
    "    img = img.resize((64, 64))\n",
    "    pixels = np.array(img).flatten()\n",
    "    bits = ''.join([format(p, '08b') for p in pixels])\n",
    "    return bits, img.size\n",
    "\n",
    "def bits_to_image(bits, size):\n",
    "    pixels = [int(bits[i:i+8], 2) for i in range(0, len(bits), 8)]\n",
    "    img = np.array(pixels, dtype=np.uint8).reshape(size[::-1])\n",
    "    return Image.fromarray(img, mode='L')\n",
    "\n",
    "def transmit_image(img_path, M, use_gray, snr_db, phase_noise_std):\n",
    "    df_symbols = generate_symbol_table(M, use_gray, show_hist=False)\n",
    "    iq_ref = list(zip(df_symbols['I'], df_symbols['Q']))\n",
    "    bits_ref = list(df_symbols['Binaire'])\n",
    "    k = int(log2(M))\n",
    "\n",
    "    bitstream, img_size = image_to_bits(img_path)\n",
    "    bitstream_padded = bitstream + '0' * ((k - len(bitstream) % k) % k)\n",
    "\n",
    "    symbols = [bitstream_padded[i:i+k] for i in range(0, len(bitstream_padded), k)]\n",
    "    modulated = np.array([complex(*iq_ref[bits_ref.index(b)]) for b in symbols])\n",
    "\n",
    "    modulated_noisy = apply_phase_noise(add_awgn_noise(modulated, snr_db), phase_noise_std)\n",
    "    received_symbols = demodulate(modulated_noisy, iq_ref, bits_ref)\n",
    "    received_bits = ''.join(received_symbols)[:len(bitstream)]\n",
    "\n",
    "    img_rx = bits_to_image(received_bits, img_size)\n",
    "    return img_rx"
   ]
  },
  {
   "cell_type": "markdown",
   "id": "92e201dd-5bf7-4275-9217-c86e47fbe5eb",
   "metadata": {},
   "source": [
    "# PARTIE 2 : Simulation d’un Modem QAM avec Entrées Utilisateur\n",
    "\n",
    "Dans cette partie, nous utilisons les fonctions définies précédemment pour simuler un système de transmission numérique basé sur la modulation QAM.  \n",
    "L’utilisateur peut spécifier différents paramètres comme :\n",
    "\n",
    "- Le nombre de symboles (M) de la constellation QAM\n",
    "- L'utilisation ou non du code Gray\n",
    "- L’orientation de la constellation\n",
    "- Le niveau de bruit (SNR)\n",
    "- Le bruit de phase\n",
    "- Le chemin de l’image à transmettre (optionnel)\n",
    "\n",
    "La simulation inclut :\n",
    "- La génération et l’affichage de la constellation QAM\n",
    "- Le calcul du BER en fonction du SNR\n",
    "- La transmission et la reconstruction d’une image\n",
    "\n",
    "Cette partie permet de valider le bon fonctionnement du système en conditions réalistes de transmission.\n"
   ]
  },
  {
   "cell_type": "code",
   "execution_count": null,
   "id": "4c6022bd-8a0f-4d3d-9e39-f7281a6d2def",
   "metadata": {},
   "outputs": [
    {
     "name": "stdout",
     "output_type": "stream",
     "text": [
      "==== SIMULATEUR QAM ====\n"
     ]
    }
   ],
   "source": [
    "if __name__ == '__main__':\n",
    "    print(\"==== SIMULATEUR QAM ====\")\n",
    "    mode = input(\"Choisissez l'input (1 = Nbre de symboles M, 2 = Nbre de bits/symbole k): \")\n",
    "    if mode.strip() == '1':\n",
    "        M = int(input(\"Entrez le nombre de symboles M (ex: 16, 64): \"))\n",
    "    else:\n",
    "        k = int(input(\"Entrez le nombre de bits par symbole k (ex: 4 pour QAM-16): \"))\n",
    "        M = 2 ** k\n",
    "\n",
    "    use_gray_input = input(\"Utiliser le code Gray ? (o/n): \").strip().lower()\n",
    "    use_gray = use_gray_input == 'o'\n",
    "\n",
    "    print(\"\\nPosition du premier symbole dans la grille:\")\n",
    "    print(\" 1 - En bas à gauche (par défaut)\")\n",
    "    print(\" 2 - En haut à gauche\")\n",
    "    print(\" 3 - En haut à droite\")\n",
    "    print(\" 4 - En bas à droite\")\n",
    "    origin_choice = input(\"Votre choix (1 à 4): \").strip()\n",
    "    origin_map = {\"1\": \"bottom-left\", \"2\": \"top-left\", \"3\": \"top-right\", \"4\": \"bottom-right\"}\n",
    "    origin = origin_map.get(origin_choice, \"bottom-left\")\n",
    "\n",
    "    snr_db = float(input(\"Valeur du SNR (dB) ? (ex: 10): \"))\n",
    "    phase_noise_std = float(input(\"Écart type du bruit de phase (en degrés) ? (ex: 5): \"))\n",
    "\n",
    "   \n",
    "    df_symbols = generate_symbol_table(M, use_gray, origin, show_hist=True)\n",
    "    print(\"\\nTable de correspondance des symboles:\")\n",
    "    print(df_symbols)\n",
    "    plot_constellation(df_symbols)\n",
    "\n",
    "    iq_ref = list(zip(df_symbols['I'], df_symbols['Q']))\n",
    "    bits_ref = list(df_symbols['Binaire'])\n",
    "    iq_sent = np.array([complex(I, Q) for I, Q in iq_ref])\n",
    "    bits_sent = bits_ref.copy()\n",
    "\n",
    "    iq_rx = add_awgn_noise(iq_sent, snr_db)\n",
    "    iq_rx = apply_phase_noise(iq_rx, phase_noise_std)\n",
    "    bits_received = demodulate(iq_rx, iq_ref, bits_ref)\n",
    "    ber = calculate_ber(bits_sent, bits_received)\n",
    "    print(f\"\\nBER (SNR={snr_db} dB, bruit de phase={phase_noise_std}°) : {ber:.5f}\")\n",
    "\n",
    "    plt.figure(figsize=(6,6))\n",
    "    plt.scatter(iq_rx.real, iq_rx.imag, c='red')\n",
    "    plt.axhline(0, color='black')\n",
    "    plt.axvline(0, color='black')\n",
    "    plt.grid(True)\n",
    "    plt.title(f\"Constellation RX avec bruit (SNR={snr_db} dB)\")\n",
    "    plt.xlabel(\"I\")\n",
    "    plt.ylabel(\"Q\")\n",
    "    plt.axis('equal')\n",
    "    plt.show()\n",
    "\n",
    "    snr_range = range(0, 21, 2)\n",
    "    ber_vs_snr(M, use_gray, phase_noise_std, snr_range)\n",
    "\n",
    "    img_path = r\"C:\\Users\\telephony\\Pictures\\Screenshots\\Capture d'écran 2025-04-23 191128.png\"\n",
    "    if os.path.exists(img_path):\n",
    "        img_rx = transmit_image(img_path, M, use_gray, snr_db, phase_noise_std)\n",
    "        plt.figure()\n",
    "        plt.imshow(img_rx, cmap='gray')\n",
    "        plt.title(\"Image reçue après transmission QAM\")\n",
    "        plt.axis('off')\n",
    "        plt.show()\n",
    "    else:\n",
    "        print(\"\\nImage 'test_image.png' non trouvée. Placez une image PNG en niveaux de gris dans le répertoire.\")\n",
    "        \n"
   ]
  },
  {
   "cell_type": "code",
   "execution_count": null,
   "id": "2837d082-c525-41ef-a5b1-844b9f8d08c9",
   "metadata": {},
   "outputs": [],
   "source": []
  }
 ],
 "metadata": {
  "kernelspec": {
   "display_name": "Python 3 (ipykernel)",
   "language": "python",
   "name": "python3"
  },
  "language_info": {
   "codemirror_mode": {
    "name": "ipython",
    "version": 3
   },
   "file_extension": ".py",
   "mimetype": "text/x-python",
   "name": "python",
   "nbconvert_exporter": "python",
   "pygments_lexer": "ipython3",
   "version": "3.12.4"
  }
 },
 "nbformat": 4,
 "nbformat_minor": 5
}
